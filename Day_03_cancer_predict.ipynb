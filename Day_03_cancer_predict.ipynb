{
 "cells": [
  {
   "cell_type": "code",
   "execution_count": 58,
   "id": "a87a92b3",
   "metadata": {},
   "outputs": [],
   "source": [
    "import pandas as pd\n",
    "import numpy as np"
   ]
  },
  {
   "cell_type": "code",
   "execution_count": 59,
   "id": "f66a8c1b",
   "metadata": {},
   "outputs": [],
   "source": [
    "# 1.读取数据\n",
    "column_name = ['Sample code number', 'Clump Thickness', 'Uniformity of Cell Size', 'Uniformity of Cell Shape',\n",
    "               'Marginal Adhesion', 'Single Epithelial Cell Size', 'Bare Nuclei', 'Bland Chromatin',\n",
    "               'Normal Nucleoli', 'Mitoses', 'Class']\n",
    "data = pd.read_csv(\"./cancer/breast-cancer-wisconsin.data\", names=column_name)"
   ]
  },
  {
   "cell_type": "code",
   "execution_count": 60,
   "id": "a9a077ee",
   "metadata": {},
   "outputs": [],
   "source": [
    "# 2.缺失值处理\n",
    "# 1）替换->np.nan\n",
    "data = data.replace(to_replace=\"?\", value=np.nan)\n",
    "# 2）删除缺失样本\n",
    "data.dropna(inplace=True)"
   ]
  },
  {
   "cell_type": "code",
   "execution_count": 61,
   "id": "9dcc9687",
   "metadata": {},
   "outputs": [
    {
     "data": {
      "text/plain": [
       "Sample code number             False\n",
       "Clump Thickness                False\n",
       "Uniformity of Cell Size        False\n",
       "Uniformity of Cell Shape       False\n",
       "Marginal Adhesion              False\n",
       "Single Epithelial Cell Size    False\n",
       "Bare Nuclei                    False\n",
       "Bland Chromatin                False\n",
       "Normal Nucleoli                False\n",
       "Mitoses                        False\n",
       "Class                          False\n",
       "dtype: bool"
      ]
     },
     "execution_count": 61,
     "metadata": {},
     "output_type": "execute_result"
    }
   ],
   "source": [
    "data.isnull().any()# 不存在缺失值"
   ]
  },
  {
   "cell_type": "code",
   "execution_count": 62,
   "id": "52266816",
   "metadata": {},
   "outputs": [],
   "source": [
    "# 3.划分数据集\n",
    "from sklearn.model_selection import train_test_split"
   ]
  },
  {
   "cell_type": "code",
   "execution_count": 63,
   "id": "05fb2ad5",
   "metadata": {},
   "outputs": [],
   "source": [
    "# 筛选特征值和目标值\n",
    "x = data.iloc[:, 1:-1]\n",
    "y = data[\"Class\"]"
   ]
  },
  {
   "cell_type": "code",
   "execution_count": 64,
   "id": "26dd2d37",
   "metadata": {},
   "outputs": [],
   "source": [
    "x_train, x_test, y_train, y_test = train_test_split(x, y)"
   ]
  },
  {
   "cell_type": "code",
   "execution_count": 65,
   "id": "35a4b62f",
   "metadata": {},
   "outputs": [],
   "source": [
    "# 4.特征工程-标准化\n",
    "from sklearn.preprocessing import StandardScaler"
   ]
  },
  {
   "cell_type": "code",
   "execution_count": 66,
   "id": "aea8f668",
   "metadata": {},
   "outputs": [],
   "source": [
    "transfer = StandardScaler()\n",
    "x_train = transfer.fit_transform(x_train)\n",
    "x_test = transfer.transform(x_test)"
   ]
  },
  {
   "cell_type": "code",
   "execution_count": 67,
   "id": "fb271eb5",
   "metadata": {},
   "outputs": [],
   "source": [
    "# 5.预估器流程\n",
    "from sklearn.linear_model import LogisticRegression"
   ]
  },
  {
   "cell_type": "code",
   "execution_count": 68,
   "id": "23686d2a",
   "metadata": {},
   "outputs": [
    {
     "data": {
      "text/plain": [
       "LogisticRegression()"
      ]
     },
     "execution_count": 68,
     "metadata": {},
     "output_type": "execute_result"
    }
   ],
   "source": [
    "estimator = LogisticRegression()\n",
    "estimator.fit(x_train, y_train)"
   ]
  },
  {
   "cell_type": "code",
   "execution_count": 69,
   "id": "7344738f",
   "metadata": {},
   "outputs": [
    {
     "data": {
      "text/plain": [
       "array([[ 1.42049062,  0.08450887,  0.87576768,  0.39005224, -0.0402723 ,\n",
       "         1.34964856,  1.06163256,  0.6374456 ,  0.67836592]])"
      ]
     },
     "execution_count": 69,
     "metadata": {},
     "output_type": "execute_result"
    }
   ],
   "source": [
    "# 逻辑回归的模型参数回归系数和偏置\n",
    "estimator.coef_"
   ]
  },
  {
   "cell_type": "code",
   "execution_count": 70,
   "id": "55411006",
   "metadata": {},
   "outputs": [
    {
     "data": {
      "text/plain": [
       "array([-1.17013845])"
      ]
     },
     "execution_count": 70,
     "metadata": {},
     "output_type": "execute_result"
    }
   ],
   "source": [
    "estimator.intercept_"
   ]
  },
  {
   "cell_type": "code",
   "execution_count": 71,
   "id": "ca9a15f9",
   "metadata": {},
   "outputs": [
    {
     "name": "stdout",
     "output_type": "stream",
     "text": [
      "y_predict:\n",
      " [4 2 2 4 4 2 4 4 2 2 2 2 4 2 2 2 2 2 2 2 2 2 2 2 2 4 2 2 4 2 4 4 2 4 2 4 2\n",
      " 4 4 2 2 2 2 2 2 2 4 4 2 4 2 2 4 2 2 2 2 2 4 2 2 4 4 2 2 4 2 4 2 2 2 2 4 4\n",
      " 4 4 2 2 4 2 4 2 4 2 4 2 2 2 4 2 2 2 2 2 2 2 2 4 2 2 2 2 2 4 2 2 4 4 4 2 2\n",
      " 2 4 2 4 4 2 2 4 4 2 2 4 2 2 2 2 2 2 2 2 2 4 2 2 2 2 4 2 4 2 2 4 2 2 2 2 4\n",
      " 2 2 2 2 4 2 4 2 2 4 4 2 2 2 2 4 2 2 2 2 4 2 4]\n",
      "直接比对真实值和预测值：\n",
      " 226    True\n",
      "170    True\n",
      "468    True\n",
      "68     True\n",
      "604    True\n",
      "       ... \n",
      "384    True\n",
      "543    True\n",
      "283    True\n",
      "244    True\n",
      "336    True\n",
      "Name: Class, Length: 171, dtype: bool\n",
      "准确率为：\n",
      " 0.9649122807017544\n"
     ]
    }
   ],
   "source": [
    "# 6.模型调优评估\n",
    "# 方法一：直接比对真实值\n",
    "y_predict = estimator.predict(x_test)\n",
    "print(\"y_predict:\\n\", y_predict)\n",
    "print(\"直接比对真实值和预测值：\\n\", y_test == y_predict)\n",
    "\n",
    "# 方法二：计算准确率\n",
    "score = estimator.score(x_test, y_test)\n",
    "print(\"准确率为：\\n\", score)"
   ]
  },
  {
   "cell_type": "code",
   "execution_count": 72,
   "id": "3d7721eb",
   "metadata": {},
   "outputs": [],
   "source": [
    "# 查看精确率，召回率，F1—score\n",
    "from sklearn.metrics import classification_report"
   ]
  },
  {
   "cell_type": "code",
   "execution_count": 73,
   "id": "831eb093",
   "metadata": {},
   "outputs": [],
   "source": [
    "report = classification_report(y_test,y_predict,labels=[2,4],target_names=[\"良心\",\"恶性\"])"
   ]
  },
  {
   "cell_type": "code",
   "execution_count": 75,
   "id": "9d940373",
   "metadata": {},
   "outputs": [
    {
     "name": "stdout",
     "output_type": "stream",
     "text": [
      "              precision    recall  f1-score   support\n",
      "\n",
      "          良心       0.96      0.99      0.97       112\n",
      "          恶性       0.98      0.92      0.95        59\n",
      "\n",
      "    accuracy                           0.96       171\n",
      "   macro avg       0.97      0.95      0.96       171\n",
      "weighted avg       0.97      0.96      0.96       171\n",
      "\n"
     ]
    }
   ],
   "source": [
    "print(report)"
   ]
  },
  {
   "cell_type": "code",
   "execution_count": 76,
   "id": "16640762",
   "metadata": {},
   "outputs": [],
   "source": [
    "# y_true:每个样本的真实类别，必须为0(反例),1(正例)标记\n",
    "# 将y_test转换成0，1\n",
    "y_true = np.where(y_test > 3, 1, 0)"
   ]
  },
  {
   "cell_type": "code",
   "execution_count": 77,
   "id": "b8b53504",
   "metadata": {},
   "outputs": [
    {
     "data": {
      "text/plain": [
       "array([1, 0, 0, 1, 1, 0, 1, 1, 0, 0, 0, 0, 1, 1, 0, 0, 0, 0, 0, 0, 0, 0,\n",
       "       0, 0, 0, 1, 1, 0, 1, 0, 1, 1, 0, 1, 0, 1, 0, 1, 1, 0, 0, 0, 0, 0,\n",
       "       0, 0, 1, 1, 0, 1, 0, 0, 1, 0, 0, 0, 0, 0, 1, 0, 0, 1, 1, 0, 0, 1,\n",
       "       1, 1, 0, 0, 0, 0, 1, 1, 1, 1, 0, 0, 0, 0, 1, 0, 1, 0, 1, 0, 0, 0,\n",
       "       1, 0, 0, 0, 0, 1, 0, 0, 0, 1, 0, 0, 0, 0, 0, 1, 0, 0, 1, 1, 1, 0,\n",
       "       0, 0, 1, 0, 1, 1, 0, 0, 1, 1, 0, 0, 1, 0, 0, 0, 0, 0, 1, 0, 0, 0,\n",
       "       1, 0, 0, 0, 0, 1, 0, 1, 0, 0, 1, 0, 0, 0, 0, 1, 0, 0, 0, 0, 1, 0,\n",
       "       1, 0, 0, 1, 1, 0, 0, 0, 0, 1, 0, 0, 0, 0, 1, 0, 1])"
      ]
     },
     "execution_count": 77,
     "metadata": {},
     "output_type": "execute_result"
    }
   ],
   "source": [
    "y_true"
   ]
  },
  {
   "cell_type": "code",
   "execution_count": 78,
   "id": "0bca6aa1",
   "metadata": {},
   "outputs": [
    {
     "data": {
      "text/plain": [
       "0.9531628329297821"
      ]
     },
     "execution_count": 78,
     "metadata": {},
     "output_type": "execute_result"
    }
   ],
   "source": [
    "# 映入AUC分类评价指标 \n",
    "from sklearn.metrics import roc_auc_score\n",
    "roc_auc_score(y_true, y_predict)"
   ]
  }
 ],
 "metadata": {
  "kernelspec": {
   "display_name": "Python 3 (ipykernel)",
   "language": "python",
   "name": "python3"
  },
  "language_info": {
   "codemirror_mode": {
    "name": "ipython",
    "version": 3
   },
   "file_extension": ".py",
   "mimetype": "text/x-python",
   "name": "python",
   "nbconvert_exporter": "python",
   "pygments_lexer": "ipython3",
   "version": "3.9.5"
  }
 },
 "nbformat": 4,
 "nbformat_minor": 5
}
