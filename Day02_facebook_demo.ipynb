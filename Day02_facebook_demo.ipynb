{
 "cells": [
  {
   "cell_type": "code",
   "execution_count": 24,
   "id": "35dc540d",
   "metadata": {},
   "outputs": [],
   "source": [
    "import pandas as pd"
   ]
  },
  {
   "cell_type": "code",
   "execution_count": 25,
   "id": "e696ba48",
   "metadata": {},
   "outputs": [],
   "source": [
    "#1.获取数据\n",
    "data = pd.read_csv(\"./fb/train.csv\")"
   ]
  },
  {
   "cell_type": "code",
   "execution_count": 26,
   "id": "db9c7912",
   "metadata": {},
   "outputs": [],
   "source": [
    "data = data.query(\"x < 2.5 & y < 1.5 & y > 1.0\")"
   ]
  },
  {
   "cell_type": "code",
   "execution_count": 27,
   "id": "e48d9ebd",
   "metadata": {},
   "outputs": [],
   "source": [
    "# 处理时间特征\n",
    "time_value = pd.to_datetime(data[\"time\"],unit=\"s\")"
   ]
  },
  {
   "cell_type": "code",
   "execution_count": 28,
   "id": "116d7ed9",
   "metadata": {},
   "outputs": [],
   "source": [
    "date = pd.DatetimeIndex(time_value)"
   ]
  },
  {
   "cell_type": "code",
   "execution_count": 29,
   "id": "26cd1599",
   "metadata": {},
   "outputs": [],
   "source": [
    "data[\"day\"] = date.day"
   ]
  },
  {
   "cell_type": "code",
   "execution_count": 30,
   "id": "ad1d3f95",
   "metadata": {},
   "outputs": [],
   "source": [
    "data[\"weekday\"] = date.weekday"
   ]
  },
  {
   "cell_type": "code",
   "execution_count": 31,
   "id": "acec5f91",
   "metadata": {},
   "outputs": [],
   "source": [
    "data[\"hour\"] = date.hour"
   ]
  },
  {
   "cell_type": "code",
   "execution_count": 32,
   "id": "b0bae2ea",
   "metadata": {},
   "outputs": [],
   "source": [
    "# 3.过滤签到次数少的地点\n",
    "place_count = data.groupby(\"place_id\").count()[\"row_id\"]"
   ]
  },
  {
   "cell_type": "code",
   "execution_count": 33,
   "id": "2758dc66",
   "metadata": {},
   "outputs": [
    {
     "data": {
      "text/plain": [
       "place_id\n",
       "1007357594      66\n",
       "1014605271     123\n",
       "1015645743     895\n",
       "1017236154    1255\n",
       "1024951487     316\n",
       "Name: row_id, dtype: int64"
      ]
     },
     "execution_count": 33,
     "metadata": {},
     "output_type": "execute_result"
    }
   ],
   "source": [
    "place_count[place_count > 50].head()"
   ]
  },
  {
   "cell_type": "code",
   "execution_count": 34,
   "id": "e5122f3a",
   "metadata": {},
   "outputs": [],
   "source": [
    "data_final = data[data[\"place_id\"].isin(place_count[place_count > 50].index.values)]"
   ]
  },
  {
   "cell_type": "code",
   "execution_count": 35,
   "id": "9145142b",
   "metadata": {},
   "outputs": [
    {
     "data": {
      "text/html": [
       "<div>\n",
       "<style scoped>\n",
       "    .dataframe tbody tr th:only-of-type {\n",
       "        vertical-align: middle;\n",
       "    }\n",
       "\n",
       "    .dataframe tbody tr th {\n",
       "        vertical-align: top;\n",
       "    }\n",
       "\n",
       "    .dataframe thead th {\n",
       "        text-align: right;\n",
       "    }\n",
       "</style>\n",
       "<table border=\"1\" class=\"dataframe\">\n",
       "  <thead>\n",
       "    <tr style=\"text-align: right;\">\n",
       "      <th></th>\n",
       "      <th>row_id</th>\n",
       "      <th>x</th>\n",
       "      <th>y</th>\n",
       "      <th>accuracy</th>\n",
       "      <th>time</th>\n",
       "      <th>place_id</th>\n",
       "      <th>day</th>\n",
       "      <th>weekday</th>\n",
       "      <th>hour</th>\n",
       "    </tr>\n",
       "  </thead>\n",
       "  <tbody>\n",
       "    <tr>\n",
       "      <th>12</th>\n",
       "      <td>12</td>\n",
       "      <td>0.8829</td>\n",
       "      <td>1.3445</td>\n",
       "      <td>64</td>\n",
       "      <td>574488</td>\n",
       "      <td>7652380351</td>\n",
       "      <td>7</td>\n",
       "      <td>2</td>\n",
       "      <td>15</td>\n",
       "    </tr>\n",
       "    <tr>\n",
       "      <th>39</th>\n",
       "      <td>39</td>\n",
       "      <td>1.2191</td>\n",
       "      <td>1.3462</td>\n",
       "      <td>743</td>\n",
       "      <td>477469</td>\n",
       "      <td>6171384989</td>\n",
       "      <td>6</td>\n",
       "      <td>1</td>\n",
       "      <td>12</td>\n",
       "    </tr>\n",
       "    <tr>\n",
       "      <th>109</th>\n",
       "      <td>109</td>\n",
       "      <td>0.4995</td>\n",
       "      <td>1.4831</td>\n",
       "      <td>155</td>\n",
       "      <td>769344</td>\n",
       "      <td>9841775341</td>\n",
       "      <td>9</td>\n",
       "      <td>4</td>\n",
       "      <td>21</td>\n",
       "    </tr>\n",
       "    <tr>\n",
       "      <th>112</th>\n",
       "      <td>112</td>\n",
       "      <td>2.2360</td>\n",
       "      <td>1.3655</td>\n",
       "      <td>66</td>\n",
       "      <td>623174</td>\n",
       "      <td>7663031065</td>\n",
       "      <td>8</td>\n",
       "      <td>3</td>\n",
       "      <td>5</td>\n",
       "    </tr>\n",
       "    <tr>\n",
       "      <th>172</th>\n",
       "      <td>172</td>\n",
       "      <td>0.7061</td>\n",
       "      <td>1.3806</td>\n",
       "      <td>52</td>\n",
       "      <td>71867</td>\n",
       "      <td>2143257457</td>\n",
       "      <td>1</td>\n",
       "      <td>3</td>\n",
       "      <td>19</td>\n",
       "    </tr>\n",
       "  </tbody>\n",
       "</table>\n",
       "</div>"
      ],
      "text/plain": [
       "     row_id       x       y  accuracy    time    place_id  day  weekday  hour\n",
       "12       12  0.8829  1.3445        64  574488  7652380351    7        2    15\n",
       "39       39  1.2191  1.3462       743  477469  6171384989    6        1    12\n",
       "109     109  0.4995  1.4831       155  769344  9841775341    9        4    21\n",
       "112     112  2.2360  1.3655        66  623174  7663031065    8        3     5\n",
       "172     172  0.7061  1.3806        52   71867  2143257457    1        3    19"
      ]
     },
     "execution_count": 35,
     "metadata": {},
     "output_type": "execute_result"
    }
   ],
   "source": [
    "data_final.head()"
   ]
  },
  {
   "cell_type": "code",
   "execution_count": 36,
   "id": "bb77608e",
   "metadata": {},
   "outputs": [],
   "source": [
    "# 筛选特征值和目标值\n",
    "x = data_final[[\"x\", \"y\", \"accuracy\", \"day\", \"weekday\", \"hour\"]]\n",
    "y = data_final[\"place_id\"]"
   ]
  },
  {
   "cell_type": "code",
   "execution_count": 37,
   "id": "df67e81c",
   "metadata": {},
   "outputs": [
    {
     "data": {
      "text/html": [
       "<div>\n",
       "<style scoped>\n",
       "    .dataframe tbody tr th:only-of-type {\n",
       "        vertical-align: middle;\n",
       "    }\n",
       "\n",
       "    .dataframe tbody tr th {\n",
       "        vertical-align: top;\n",
       "    }\n",
       "\n",
       "    .dataframe thead th {\n",
       "        text-align: right;\n",
       "    }\n",
       "</style>\n",
       "<table border=\"1\" class=\"dataframe\">\n",
       "  <thead>\n",
       "    <tr style=\"text-align: right;\">\n",
       "      <th></th>\n",
       "      <th>x</th>\n",
       "      <th>y</th>\n",
       "      <th>accuracy</th>\n",
       "      <th>day</th>\n",
       "      <th>weekday</th>\n",
       "      <th>hour</th>\n",
       "    </tr>\n",
       "  </thead>\n",
       "  <tbody>\n",
       "    <tr>\n",
       "      <th>12</th>\n",
       "      <td>0.8829</td>\n",
       "      <td>1.3445</td>\n",
       "      <td>64</td>\n",
       "      <td>7</td>\n",
       "      <td>2</td>\n",
       "      <td>15</td>\n",
       "    </tr>\n",
       "    <tr>\n",
       "      <th>39</th>\n",
       "      <td>1.2191</td>\n",
       "      <td>1.3462</td>\n",
       "      <td>743</td>\n",
       "      <td>6</td>\n",
       "      <td>1</td>\n",
       "      <td>12</td>\n",
       "    </tr>\n",
       "    <tr>\n",
       "      <th>109</th>\n",
       "      <td>0.4995</td>\n",
       "      <td>1.4831</td>\n",
       "      <td>155</td>\n",
       "      <td>9</td>\n",
       "      <td>4</td>\n",
       "      <td>21</td>\n",
       "    </tr>\n",
       "    <tr>\n",
       "      <th>112</th>\n",
       "      <td>2.2360</td>\n",
       "      <td>1.3655</td>\n",
       "      <td>66</td>\n",
       "      <td>8</td>\n",
       "      <td>3</td>\n",
       "      <td>5</td>\n",
       "    </tr>\n",
       "    <tr>\n",
       "      <th>172</th>\n",
       "      <td>0.7061</td>\n",
       "      <td>1.3806</td>\n",
       "      <td>52</td>\n",
       "      <td>1</td>\n",
       "      <td>3</td>\n",
       "      <td>19</td>\n",
       "    </tr>\n",
       "  </tbody>\n",
       "</table>\n",
       "</div>"
      ],
      "text/plain": [
       "          x       y  accuracy  day  weekday  hour\n",
       "12   0.8829  1.3445        64    7        2    15\n",
       "39   1.2191  1.3462       743    6        1    12\n",
       "109  0.4995  1.4831       155    9        4    21\n",
       "112  2.2360  1.3655        66    8        3     5\n",
       "172  0.7061  1.3806        52    1        3    19"
      ]
     },
     "execution_count": 37,
     "metadata": {},
     "output_type": "execute_result"
    }
   ],
   "source": [
    "x.head()"
   ]
  },
  {
   "cell_type": "code",
   "execution_count": 38,
   "id": "ae23b13f",
   "metadata": {},
   "outputs": [
    {
     "data": {
      "text/plain": [
       "12     7652380351\n",
       "39     6171384989\n",
       "109    9841775341\n",
       "112    7663031065\n",
       "172    2143257457\n",
       "Name: place_id, dtype: int64"
      ]
     },
     "execution_count": 38,
     "metadata": {},
     "output_type": "execute_result"
    }
   ],
   "source": [
    "y.head()"
   ]
  },
  {
   "cell_type": "code",
   "execution_count": 39,
   "id": "173dd3cc",
   "metadata": {},
   "outputs": [],
   "source": [
    "# 数据集划分\n",
    "from sklearn.model_selection import train_test_split"
   ]
  },
  {
   "cell_type": "code",
   "execution_count": 40,
   "id": "805f0cd9",
   "metadata": {},
   "outputs": [],
   "source": [
    "x_train,x_test,y_train,y_test = train_test_split(x,y)"
   ]
  },
  {
   "cell_type": "code",
   "execution_count": 41,
   "id": "5bc389c0",
   "metadata": {},
   "outputs": [],
   "source": [
    "from sklearn.preprocessing import StandardScaler\n",
    "from sklearn.neighbors import KNeighborsClassifier\n",
    "from sklearn.model_selection import GridSearchCV"
   ]
  },
  {
   "cell_type": "code",
   "execution_count": 42,
   "id": "ba54c177",
   "metadata": {},
   "outputs": [
    {
     "name": "stdout",
     "output_type": "stream",
     "text": [
      "y_predict:\n",
      " [4723615516 2367979052 4182637650 ... 2082127512 8286292454 2191807392]\n",
      "直接比对真实值和预测值：\n",
      " 27273679    False\n",
      "3054693     False\n",
      "8295402     False\n",
      "2617968      True\n",
      "14153083    False\n",
      "            ...  \n",
      "14242132     True\n",
      "23047811    False\n",
      "11849162    False\n",
      "10241932     True\n",
      "20422357    False\n",
      "Name: place_id, Length: 86293, dtype: bool\n",
      "准确率为：\n",
      " 0.3199448390947122\n",
      "最佳参数：\n",
      " {'n_neighbors': 5}\n",
      "最佳结果：\n",
      " 0.3040760808808915\n",
      "最佳估计器：\n",
      " KNeighborsClassifier()\n",
      "交叉验证结果：\n",
      " {'mean_fit_time': array([0.80736194, 0.81566744, 0.80941987, 0.82480597]), 'std_fit_time': array([0.04270669, 0.01798544, 0.02058797, 0.02687576]), 'mean_score_time': array([2.18343716, 2.34363623, 2.65644851, 2.86609797]), 'std_score_time': array([0.09662719, 0.02758012, 0.02596084, 0.03609365]), 'param_n_neighbors': masked_array(data=[2, 3, 5, 7],\n",
      "             mask=[False, False, False, False],\n",
      "       fill_value='?',\n",
      "            dtype=object), 'params': [{'n_neighbors': 2}, {'n_neighbors': 3}, {'n_neighbors': 5}, {'n_neighbors': 7}], 'split0_test_score': array([0.2797242 , 0.29183405, 0.30456196, 0.30249536]), 'split1_test_score': array([0.28032834, 0.29081603, 0.30412361, 0.30176726]), 'split2_test_score': array([0.28392081, 0.29357798, 0.30402704, 0.30309995]), 'split3_test_score': array([0.28038629, 0.29286335, 0.30362144, 0.30240464]), 'split4_test_score': array([0.28164172, 0.29160792, 0.30404635, 0.30255915]), 'mean_test_score': array([0.28120027, 0.29213987, 0.30407608, 0.30246527]), 'std_test_score': array([0.00149652, 0.00097166, 0.00029944, 0.00042507]), 'rank_test_score': array([4, 3, 1, 2])}\n"
     ]
    }
   ],
   "source": [
    "# 3.特征工程：标准化\n",
    "transfer = StandardScaler()\n",
    "x_train = transfer.fit_transform(x_train)\n",
    "x_test = transfer.transform(x_test)\n",
    "\n",
    "# 4.KNN算法预估器\n",
    "estimator = KNeighborsClassifier()\n",
    "\n",
    "# 加入网格搜索和交叉验证\n",
    "# 参数准备\n",
    "param_dict = {\"n_neighbors\": [2, 3, 5 ,7]}\n",
    "estimator = GridSearchCV(estimator=estimator, param_grid=param_dict, cv=5)\n",
    "estimator.fit(x_train, y_train)\n",
    "\n",
    "# 5.模型评估\n",
    "# 方法一：直接比对真实值\n",
    "y_predict = estimator.predict(x_test)\n",
    "print(\"y_predict:\\n\", y_predict)\n",
    "print(\"直接比对真实值和预测值：\\n\", y_test == y_predict)\n",
    "\n",
    "# 方法二：计算准确率\n",
    "score = estimator.score(x_test, y_test)\n",
    "print(\"准确率为：\\n\", score)\n",
    "\n",
    "# 最佳参数：best_params\n",
    "print(\"最佳参数：\\n\", estimator.best_params_)\n",
    "# 最佳结果：best_score\n",
    "print(\"最佳结果：\\n\", estimator.best_score_)\n",
    "# 最佳估计器：best_estimator\n",
    "print(\"最佳估计器：\\n\", estimator.best_estimator_)\n",
    "# 交叉验证结果：cv_results\n",
    "print(\"交叉验证结果：\\n\", estimator.cv_results_)"
   ]
  },
  {
   "cell_type": "code",
   "execution_count": null,
   "id": "9c8a6ac8",
   "metadata": {},
   "outputs": [],
   "source": []
  }
 ],
 "metadata": {
  "kernelspec": {
   "display_name": "Python 3 (ipykernel)",
   "language": "python",
   "name": "python3"
  },
  "language_info": {
   "codemirror_mode": {
    "name": "ipython",
    "version": 3
   },
   "file_extension": ".py",
   "mimetype": "text/x-python",
   "name": "python",
   "nbconvert_exporter": "python",
   "pygments_lexer": "ipython3",
   "version": "3.9.5"
  }
 },
 "nbformat": 4,
 "nbformat_minor": 5
}
